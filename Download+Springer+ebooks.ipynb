{
 "cells": [
  {
   "cell_type": "code",
   "execution_count": 1,
   "metadata": {
    "collapsed": true
   },
   "outputs": [],
   "source": [
    "import pandas as pd\n",
    "import requests\n",
    "import time\n",
    "import os"
   ]
  },
  {
   "cell_type": "markdown",
   "metadata": {},
   "source": [
    "## Explore data"
   ]
  },
  {
   "cell_type": "code",
   "execution_count": 2,
   "metadata": {
    "collapsed": true
   },
   "outputs": [],
   "source": [
    "path = \"/home/ricardo/Descargas/Springer_Ebooks-convertido.xlsx\""
   ]
  },
  {
   "cell_type": "code",
   "execution_count": 3,
   "metadata": {},
   "outputs": [],
   "source": [
    "df = pd.read_excel(path)"
   ]
  },
  {
   "cell_type": "code",
   "execution_count": 4,
   "metadata": {},
   "outputs": [
    {
     "data": {
      "text/html": [
       "<div>\n",
       "<style scoped>\n",
       "    .dataframe tbody tr th:only-of-type {\n",
       "        vertical-align: middle;\n",
       "    }\n",
       "\n",
       "    .dataframe tbody tr th {\n",
       "        vertical-align: top;\n",
       "    }\n",
       "\n",
       "    .dataframe thead th {\n",
       "        text-align: right;\n",
       "    }\n",
       "</style>\n",
       "<table border=\"1\" class=\"dataframe\">\n",
       "  <thead>\n",
       "    <tr style=\"text-align: right;\">\n",
       "      <th></th>\n",
       "      <th>S.No.</th>\n",
       "      <th>Book Title</th>\n",
       "      <th>Author</th>\n",
       "      <th>Edition</th>\n",
       "      <th>OpenURL</th>\n",
       "    </tr>\n",
       "  </thead>\n",
       "  <tbody>\n",
       "    <tr>\n",
       "      <th>0</th>\n",
       "      <td>287</td>\n",
       "      <td>Electronic Commerce 2018</td>\n",
       "      <td>King, Jae Kyu Lee, Ting-Peng Liang,\\nDeborrah ...</td>\n",
       "      <td>9th ed.\\n2018</td>\n",
       "      <td>http://link.springer.com/openurl?genre=book&amp;is...</td>\n",
       "    </tr>\n",
       "    <tr>\n",
       "      <th>1</th>\n",
       "      <td>182</td>\n",
       "      <td>Electronic Commerce</td>\n",
       "      <td>Lee, Ting-Peng Liang, Deborrah C.\\nTurban</td>\n",
       "      <td>8th ed.\\n2015</td>\n",
       "      <td>http://link.springer.com/openurl?genre=book&amp;is...</td>\n",
       "    </tr>\n",
       "    <tr>\n",
       "      <th>2</th>\n",
       "      <td>51</td>\n",
       "      <td>Particles and Nuclei</td>\n",
       "      <td>Scholz, Frank Zetsche, Werner\\nRodejohann</td>\n",
       "      <td>7th ed.\\n2015</td>\n",
       "      <td>http://link.springer.com/openurl?genre=book&amp;is...</td>\n",
       "    </tr>\n",
       "    <tr>\n",
       "      <th>3</th>\n",
       "      <td>371</td>\n",
       "      <td>Structural Dynamics</td>\n",
       "      <td>Mario Paz, Young Hoon Kim</td>\n",
       "      <td>6th ed.\\n2019</td>\n",
       "      <td>http://link.springer.com/openurl?genre=book&amp;is...</td>\n",
       "    </tr>\n",
       "    <tr>\n",
       "      <th>4</th>\n",
       "      <td>331</td>\n",
       "      <td>Proofs from THE BOOK</td>\n",
       "      <td>Martin Aigner, Günter M. Ziegler</td>\n",
       "      <td>6th ed.\\n2018</td>\n",
       "      <td>http://link.springer.com/openurl?genre=book&amp;is...</td>\n",
       "    </tr>\n",
       "  </tbody>\n",
       "</table>\n",
       "</div>"
      ],
      "text/plain": [
       "   S.No.                Book Title  \\\n",
       "0    287  Electronic Commerce 2018   \n",
       "1    182       Electronic Commerce   \n",
       "2     51      Particles and Nuclei   \n",
       "3    371       Structural Dynamics   \n",
       "4    331      Proofs from THE BOOK   \n",
       "\n",
       "                                              Author        Edition  \\\n",
       "0  King, Jae Kyu Lee, Ting-Peng Liang,\\nDeborrah ...  9th ed.\\n2018   \n",
       "1          Lee, Ting-Peng Liang, Deborrah C.\\nTurban  8th ed.\\n2015   \n",
       "2          Scholz, Frank Zetsche, Werner\\nRodejohann  7th ed.\\n2015   \n",
       "3                          Mario Paz, Young Hoon Kim  6th ed.\\n2019   \n",
       "4                   Martin Aigner, Günter M. Ziegler  6th ed.\\n2018   \n",
       "\n",
       "                                             OpenURL  \n",
       "0  http://link.springer.com/openurl?genre=book&is...  \n",
       "1  http://link.springer.com/openurl?genre=book&is...  \n",
       "2  http://link.springer.com/openurl?genre=book&is...  \n",
       "3  http://link.springer.com/openurl?genre=book&is...  \n",
       "4  http://link.springer.com/openurl?genre=book&is...  "
      ]
     },
     "execution_count": 4,
     "metadata": {},
     "output_type": "execute_result"
    }
   ],
   "source": [
    "df.head()"
   ]
  },
  {
   "cell_type": "code",
   "execution_count": 5,
   "metadata": {},
   "outputs": [
    {
     "name": "stdout",
     "output_type": "stream",
     "text": [
      "<class 'pandas.core.frame.DataFrame'>\n",
      "RangeIndex: 408 entries, 0 to 407\n",
      "Data columns (total 5 columns):\n",
      " #   Column      Non-Null Count  Dtype \n",
      "---  ------      --------------  ----- \n",
      " 0   S.No.       408 non-null    int64 \n",
      " 1   Book Title  408 non-null    object\n",
      " 2   Author      408 non-null    object\n",
      " 3   Edition     408 non-null    object\n",
      " 4   OpenURL     408 non-null    object\n",
      "dtypes: int64(1), object(4)\n",
      "memory usage: 16.1+ KB\n"
     ]
    }
   ],
   "source": [
    "df.info()"
   ]
  },
  {
   "cell_type": "code",
   "execution_count": 6,
   "metadata": {},
   "outputs": [
    {
     "data": {
      "text/plain": [
       "S.No.                                                       287\n",
       "Book Title                             Electronic Commerce 2018\n",
       "Author        King, Jae Kyu Lee, Ting-Peng Liang,\\nDeborrah ...\n",
       "Edition                                           9th ed.\\n2018\n",
       "OpenURL       http://link.springer.com/openurl?genre=book&is...\n",
       "Name: 0, dtype: object"
      ]
     },
     "execution_count": 6,
     "metadata": {},
     "output_type": "execute_result"
    }
   ],
   "source": [
    "df.loc[0]"
   ]
  },
  {
   "cell_type": "code",
   "execution_count": 7,
   "metadata": {},
   "outputs": [
    {
     "data": {
      "text/plain": [
       "'http://link.springer.com/openurl?genre=book&isbn=978-3-319-58715-8'"
      ]
     },
     "execution_count": 7,
     "metadata": {},
     "output_type": "execute_result"
    }
   ],
   "source": [
    "df.loc[0, 'OpenURL']"
   ]
  },
  {
   "cell_type": "markdown",
   "metadata": {},
   "source": [
    "If we go to this URL, we obtain the following:\n",
    "\n",
    "PDF LINK\n",
    "https://link.springer.com/content/pdf/10.1007%2F978-3-319-58715-8.pdf\n",
    "\n",
    "EPUB LINK\n",
    "https://link.springer.com/download/epub/10.1007%2F978-3-319-58715-8.epub"
   ]
  },
  {
   "cell_type": "markdown",
   "metadata": {},
   "source": [
    "## Create URLs"
   ]
  },
  {
   "cell_type": "code",
   "execution_count": 8,
   "metadata": {},
   "outputs": [
    {
     "data": {
      "text/plain": [
       "45"
      ]
     },
     "execution_count": 8,
     "metadata": {},
     "output_type": "execute_result"
    }
   ],
   "source": [
    "url = \"'http://link.springer.com/openurl?genre=book&isbn=978-3-319-58715-8'\"\n",
    "url.find(\"isbn=\")"
   ]
  },
  {
   "cell_type": "code",
   "execution_count": 9,
   "metadata": {},
   "outputs": [
    {
     "data": {
      "text/plain": [
       "\"isbn=978-3-319-58715-8'\""
      ]
     },
     "execution_count": 9,
     "metadata": {},
     "output_type": "execute_result"
    }
   ],
   "source": [
    "url[45:]"
   ]
  },
  {
   "cell_type": "code",
   "execution_count": 10,
   "metadata": {},
   "outputs": [
    {
     "data": {
      "text/plain": [
       "\"978-3-319-58715-8'\""
      ]
     },
     "execution_count": 10,
     "metadata": {},
     "output_type": "execute_result"
    }
   ],
   "source": [
    "url[45+5:]"
   ]
  },
  {
   "cell_type": "code",
   "execution_count": 11,
   "metadata": {
    "collapsed": true
   },
   "outputs": [],
   "source": [
    "def isbn_from_url(url):\n",
    "    \n",
    "    token = \"isbn=\"\n",
    "    offset = 5\n",
    "    pos = url.find(token) + offset\n",
    "    \n",
    "    return url[pos:]"
   ]
  },
  {
   "cell_type": "code",
   "execution_count": 12,
   "metadata": {
    "scrolled": true
   },
   "outputs": [
    {
     "data": {
      "text/plain": [
       "\"978-3-319-58715-8'\""
      ]
     },
     "execution_count": 12,
     "metadata": {},
     "output_type": "execute_result"
    }
   ],
   "source": [
    "isbn_from_url(url)"
   ]
  },
  {
   "cell_type": "code",
   "execution_count": 13,
   "metadata": {
    "collapsed": true
   },
   "outputs": [],
   "source": [
    "df['ISBN'] = df['OpenURL'].apply(isbn_from_url)"
   ]
  },
  {
   "cell_type": "code",
   "execution_count": 14,
   "metadata": {},
   "outputs": [
    {
     "data": {
      "text/plain": [
       "S.No.                                                       287\n",
       "Book Title                             Electronic Commerce 2018\n",
       "Author        King, Jae Kyu Lee, Ting-Peng Liang,\\nDeborrah ...\n",
       "Edition                                           9th ed.\\n2018\n",
       "OpenURL       http://link.springer.com/openurl?genre=book&is...\n",
       "ISBN                                          978-3-319-58715-8\n",
       "Name: 0, dtype: object"
      ]
     },
     "execution_count": 14,
     "metadata": {},
     "output_type": "execute_result"
    }
   ],
   "source": [
    "df.loc[0]"
   ]
  },
  {
   "cell_type": "code",
   "execution_count": 15,
   "metadata": {
    "collapsed": true
   },
   "outputs": [],
   "source": [
    "def create_pdf_url(isbn):\n",
    "    \n",
    "    pdf_prefix = \"https://link.springer.com/content/pdf/10.1007%2F\"\n",
    "    pdf_extension = \".pdf\"\n",
    "    \n",
    "    return pdf_prefix + isbn + pdf_extension"
   ]
  },
  {
   "cell_type": "code",
   "execution_count": 16,
   "metadata": {},
   "outputs": [
    {
     "data": {
      "text/plain": [
       "'https://link.springer.com/content/pdf/10.1007%2F978-3-319-58715-8.pdf'"
      ]
     },
     "execution_count": 16,
     "metadata": {},
     "output_type": "execute_result"
    }
   ],
   "source": [
    "create_pdf_url('978-3-319-58715-8')"
   ]
  },
  {
   "cell_type": "code",
   "execution_count": 17,
   "metadata": {
    "collapsed": true
   },
   "outputs": [],
   "source": [
    "test_pdf_url = \"https://link.springer.com/content/pdf/10.1007%2F978-3-319-58715-8.pdf\"\n",
    "assert test_pdf_url == create_pdf_url('978-3-319-58715-8')"
   ]
  },
  {
   "cell_type": "code",
   "execution_count": 18,
   "metadata": {
    "collapsed": true
   },
   "outputs": [],
   "source": [
    "def create_epub_url(isbn):\n",
    "    \n",
    "    epub_prefix = \"https://link.springer.com/download/epub/10.1007%2F\"\n",
    "    epub_extension = \".epub\"\n",
    "    \n",
    "    return epub_prefix + isbn + epub_extension"
   ]
  },
  {
   "cell_type": "code",
   "execution_count": 19,
   "metadata": {},
   "outputs": [
    {
     "data": {
      "text/plain": [
       "'https://link.springer.com/download/epub/10.1007%2F978-3-319-58715-8.epub'"
      ]
     },
     "execution_count": 19,
     "metadata": {},
     "output_type": "execute_result"
    }
   ],
   "source": [
    "create_epub_url('978-3-319-58715-8')"
   ]
  },
  {
   "cell_type": "code",
   "execution_count": 20,
   "metadata": {
    "collapsed": true
   },
   "outputs": [],
   "source": [
    "test_epub_url = \"https://link.springer.com/download/epub/10.1007%2F978-3-319-58715-8.epub\"\n",
    "assert test_epub_url == create_epub_url('978-3-319-58715-8')"
   ]
  },
  {
   "cell_type": "code",
   "execution_count": 21,
   "metadata": {
    "collapsed": true
   },
   "outputs": [],
   "source": [
    "df['pdf_url'] = df['ISBN'].apply(create_pdf_url)"
   ]
  },
  {
   "cell_type": "code",
   "execution_count": 22,
   "metadata": {
    "collapsed": true
   },
   "outputs": [],
   "source": [
    "df['epub_url'] = df['ISBN'].apply(create_epub_url)"
   ]
  },
  {
   "cell_type": "code",
   "execution_count": 23,
   "metadata": {},
   "outputs": [
    {
     "data": {
      "text/plain": [
       "S.No.                                                       287\n",
       "Book Title                             Electronic Commerce 2018\n",
       "Author        King, Jae Kyu Lee, Ting-Peng Liang,\\nDeborrah ...\n",
       "Edition                                           9th ed.\\n2018\n",
       "OpenURL       http://link.springer.com/openurl?genre=book&is...\n",
       "ISBN                                          978-3-319-58715-8\n",
       "pdf_url       https://link.springer.com/content/pdf/10.1007%...\n",
       "epub_url      https://link.springer.com/download/epub/10.100...\n",
       "Name: 0, dtype: object"
      ]
     },
     "execution_count": 23,
     "metadata": {},
     "output_type": "execute_result"
    }
   ],
   "source": [
    "df.loc[0]"
   ]
  },
  {
   "cell_type": "markdown",
   "metadata": {},
   "source": [
    "## Download ebooks"
   ]
  },
  {
   "cell_type": "code",
   "execution_count": 24,
   "metadata": {},
   "outputs": [],
   "source": [
    "output_directory = \"/home/ricardo/Escritorio/springer_ebooks\"\n",
    "output_directory_pdf = os.path.join(output_directory, \"pdf\")\n",
    "output_directory_epub = os.path.join(output_directory, \"epub\")"
   ]
  },
  {
   "cell_type": "code",
   "execution_count": 25,
   "metadata": {
    "collapsed": true
   },
   "outputs": [],
   "source": [
    "for directory in [output_directory, output_directory_pdf, output_directory_epub]:\n",
    "    if not os.path.exists(directory):\n",
    "        os.makedirs(directory)"
   ]
  },
  {
   "cell_type": "code",
   "execution_count": 39,
   "metadata": {},
   "outputs": [],
   "source": [
    "def make_output_path_pdf(row):\n",
    "    filename = (str(row['S.No.']) + '_' + row['Book Title'] + \".pdf\").replace(\" \", \"_\")\n",
    "    return os.path.join(output_directory_pdf, filename)"
   ]
  },
  {
   "cell_type": "code",
   "execution_count": 40,
   "metadata": {},
   "outputs": [],
   "source": [
    "def make_output_path_epub(row):\n",
    "    filename = (str(row['S.No.']) + '_' + row['Book Title'] + \".epub\").replace(\" \", \"_\")\n",
    "    return os.path.join(output_directory_epub, filename)"
   ]
  },
  {
   "cell_type": "code",
   "execution_count": 41,
   "metadata": {},
   "outputs": [],
   "source": [
    "df['output_path_pdf'] = df.apply(make_output_path_pdf, axis=1)\n",
    "df['output_path_epub'] = df.apply(make_output_path_epub, axis=1)"
   ]
  },
  {
   "cell_type": "code",
   "execution_count": 51,
   "metadata": {
    "collapsed": true
   },
   "outputs": [],
   "source": [
    "# Avoid collapsing the server (or being banned)\n",
    "\n",
    "def wait_20(func):\n",
    "    \"\"\"\n",
    "    Add 20 seconds waiting time after function call\n",
    "    \"\"\"\n",
    "    \n",
    "    def wrapper(*args, **kwargs):\n",
    "        func(*args, **kwargs)\n",
    "        time.sleep(20)\n",
    "    \n",
    "    return wrapper"
   ]
  },
  {
   "cell_type": "code",
   "execution_count": 52,
   "metadata": {},
   "outputs": [],
   "source": [
    "@wait_20\n",
    "def download(row, format='pdf'):\n",
    "\n",
    "    if format=='pdf':\n",
    "        command = \"wget -O %s %s\" % (row['output_path_pdf'], row['pdf_url'])\n",
    "    else:\n",
    "        command = \"wget -O %s %s\" % (row['output_path_epub'], row['epub_url'])\n",
    "    \n",
    "    os.system(command)\n",
    "    print(\".\", end=\"\")"
   ]
  },
  {
   "cell_type": "markdown",
   "metadata": {},
   "source": [
    "**PDF**"
   ]
  },
  {
   "cell_type": "code",
   "execution_count": null,
   "metadata": {},
   "outputs": [
    {
     "name": "stdout",
     "output_type": "stream",
     "text": [
      "."
     ]
    }
   ],
   "source": [
    "for index, ebook in df.iterrows():\n",
    "    download(ebook, 'pdf')\n",
    "    \n",
    "    if (index+1) % 10 == 0 and index != 0:\n",
    "        print(\"\\n%d of %d completed\\n\" % (index+1, len(df)))\n",
    "    \n",
    "print(\"Done!!\")"
   ]
  },
  {
   "cell_type": "code",
   "execution_count": null,
   "metadata": {
    "collapsed": true
   },
   "outputs": [],
   "source": []
  }
 ],
 "metadata": {
  "kernelspec": {
   "display_name": "Python 3.7",
   "language": "python",
   "name": "python37"
  },
  "language_info": {
   "codemirror_mode": {
    "name": "ipython",
    "version": 3
   },
   "file_extension": ".py",
   "mimetype": "text/x-python",
   "name": "python",
   "nbconvert_exporter": "python",
   "pygments_lexer": "ipython3",
   "version": "3.7.7"
  }
 },
 "nbformat": 4,
 "nbformat_minor": 2
}
